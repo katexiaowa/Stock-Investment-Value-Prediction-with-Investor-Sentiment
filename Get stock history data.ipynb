{
 "cells": [
  {
   "cell_type": "code",
   "execution_count": 1,
   "id": "434bee79",
   "metadata": {},
   "outputs": [],
   "source": [
    "#pip install stockquant"
   ]
  },
  {
   "cell_type": "code",
   "execution_count": 2,
   "id": "0c0d5c25",
   "metadata": {},
   "outputs": [],
   "source": [
    "#pip install baostock -i https://pypi.tuna.tsinghua.edu.cn/simple/ --trusted-host pypi.tuna.tsinghua.edu.cn"
   ]
  },
  {
   "cell_type": "code",
   "execution_count": 3,
   "id": "32a7b3a8",
   "metadata": {},
   "outputs": [],
   "source": [
    "import baostock as bs\n",
    "import pandas as pd\n"
   ]
  },
  {
   "cell_type": "code",
   "execution_count": 4,
   "id": "dfdf0ae7",
   "metadata": {},
   "outputs": [
    {
     "name": "stdout",
     "output_type": "stream",
     "text": [
      "login success!\n",
      "login respond error_code:0\n",
      "login respond  error_msg:success\n",
      "query_history_k_data_plus respond error_code:0\n",
      "query_history_k_data_plus respond  error_msg:success\n",
      "           date       code       open       high        low      close   \n",
      "0    2023-02-01  sh.600519  1854.9800  1859.0000  1811.4000  1844.9700  \\\n",
      "1    2023-02-02  sh.600519  1848.3800  1859.0000  1826.0000  1836.1100   \n",
      "2    2023-02-03  sh.600519  1820.0000  1826.0000  1795.6800  1818.0000   \n",
      "3    2023-02-06  sh.600519  1780.0000  1795.0000  1760.0000  1795.0000   \n",
      "4    2023-02-07  sh.600519  1808.0800  1808.8000  1787.7300  1797.0000   \n",
      "..          ...        ...        ...        ...        ...        ...   \n",
      "97   2023-06-26  sh.600519  1720.1100  1730.0000  1695.0000  1709.0000   \n",
      "98   2023-06-27  sh.600519  1709.9900  1719.7000  1700.0900  1711.0500   \n",
      "99   2023-06-28  sh.600519  1713.1800  1734.0000  1711.0000  1728.3800   \n",
      "100  2023-06-29  sh.600519  1731.0000  1734.9900  1713.0100  1713.7100   \n",
      "101  2023-06-30  sh.600519  1700.0000  1708.9900  1686.4800  1691.0000   \n",
      "\n",
      "      preclose   volume           amount adjustflag      turn tradestatus   \n",
      "0    1845.7600  3397389  6244678924.6100          3  0.270500           1  \\\n",
      "1    1844.9700  2975886  5465509509.9800          3  0.236900           1   \n",
      "2    1836.1100  3494490  6324635031.3500          3  0.278200           1   \n",
      "3    1818.0000  4266095  7595739043.7100          3  0.339600           1   \n",
      "4    1795.0000  2432171  4373671735.4800          3  0.193600           1   \n",
      "..         ...      ...              ...        ...       ...         ...   \n",
      "97   1735.8300  2399268  4098619509.8400          3  0.191000           1   \n",
      "98   1709.0000  1517446  2598138743.7800          3  0.120800           1   \n",
      "99   1711.0500  1857356  3199294221.2100          3  0.147900           1   \n",
      "100  1728.3800  1423116  2446524133.5200          3  0.113300           1   \n",
      "101  1687.8000  2045869  3472586730.4900          3  0.162900           1   \n",
      "\n",
      "        pctChg      peTTM      pbMRQ      psTTM  \n",
      "0    -0.042800  38.890754  11.212138  18.966482  \n",
      "1    -0.480200  38.703991  11.158294  18.875400  \n",
      "2    -0.986300  38.322244  11.048237  18.689227  \n",
      "3    -1.265100  37.837419  10.908463  18.452785  \n",
      "4     0.111400  37.879578  10.920617  18.473345  \n",
      "..         ...        ...        ...        ...  \n",
      "97   -1.545700  32.397164   9.835461  16.051623  \n",
      "98    0.120000  32.436025   9.847259  16.070878  \n",
      "99    1.012800  32.764546   9.946995  16.233648  \n",
      "100  -0.848800  32.486450   9.862567  16.095862  \n",
      "101   0.189600                                   \n",
      "\n",
      "[102 rows x 16 columns]\n",
      "logout success!\n"
     ]
    },
    {
     "data": {
      "text/plain": [
       "<baostock.data.resultset.ResultData at 0x105c777f0>"
      ]
     },
     "execution_count": 4,
     "metadata": {},
     "output_type": "execute_result"
    }
   ],
   "source": [
    "#### Login system ####\n",
    "lg = bs.login()\n",
    "# Displays login return information\n",
    "print('login respond error_code:'+lg.error_code)\n",
    "print('login respond  error_msg:'+lg.error_msg)\n",
    "\n",
    "#### Get historical K-line data ####\n",
    "# For detailed index parameters, please refer to the paper \"3.1.2 Historical stock market data\".\n",
    "rs = bs.query_history_k_data_plus(\"sh.600519\",\n",
    "    \"date,code,open,high,low,close,preclose,volume,amount,adjustflag,turn,tradestatus,pctChg,peTTM,pbMRQ,psTTM\",\n",
    "    start_date='2023-02-01', end_date='2023-06-30', \n",
    "    frequency=\"d\", adjustflag=\"3\") #frequency=\"d\" take day k line, adjustflag=\"3\" default no rights\n",
    "print('query_history_k_data_plus respond error_code:'+rs.error_code)\n",
    "print('query_history_k_data_plus respond  error_msg:'+rs.error_msg)\n",
    "\n",
    "#### Print result set ####\n",
    "data_list = []\n",
    "while (rs.error_code == '0') & rs.next():\n",
    "    # Get a record and merge the records together\n",
    "    data_list.append(rs.get_row_data())\n",
    "result = pd.DataFrame(data_list, columns=rs.fields)\n",
    "#### Output result sets to csv file ####\n",
    "result.to_csv(\"history_data_600519.csv\", encoding=\"gbk\", index=False)\n",
    "print(result)\n",
    "\n",
    "#### Logout system ####\n",
    "bs.logout()\n"
   ]
  },
  {
   "cell_type": "code",
   "execution_count": 5,
   "id": "b0320f6e",
   "metadata": {},
   "outputs": [
    {
     "name": "stdout",
     "output_type": "stream",
     "text": [
      "login success!\n",
      "login respond error_code:0\n",
      "login respond  error_msg:success\n",
      "query_history_k_data_plus respond error_code:0\n",
      "query_history_k_data_plus respond  error_msg:success\n",
      "          date       code       open       high        low      close   \n",
      "0   2023-07-03  sh.600519  1699.0000  1725.2800  1692.0000  1724.1000  \\\n",
      "1   2023-07-04  sh.600519  1724.2000  1734.4400  1718.0800  1730.6000   \n",
      "2   2023-07-05  sh.600519  1730.0000  1731.9700  1700.0000  1715.3800   \n",
      "3   2023-07-06  sh.600519  1709.1600  1733.0000  1700.0000  1702.9800   \n",
      "4   2023-07-07  sh.600519  1701.0000  1708.9900  1690.0000  1690.0300   \n",
      "5   2023-07-10  sh.600519  1705.0000  1714.9600  1700.0000  1700.9000   \n",
      "6   2023-07-11  sh.600519  1710.0000  1715.1700  1702.1000  1710.0000   \n",
      "7   2023-07-12  sh.600519  1713.0400  1723.0000  1711.3300  1713.8000   \n",
      "8   2023-07-13  sh.600519  1721.9900  1745.4100  1719.0100  1738.4000   \n",
      "9   2023-07-14  sh.600519  1756.0000  1758.5000  1741.2000  1753.0000   \n",
      "10  2023-07-17  sh.600519  1751.0000  1751.0000  1726.6000  1729.9700   \n",
      "11  2023-07-18  sh.600519  1733.5800  1734.5100  1721.0000  1722.8000   \n",
      "12  2023-07-19  sh.600519  1715.0100  1728.0000  1713.8000  1723.0000   \n",
      "13  2023-07-20  sh.600519  1727.9900  1748.9800  1722.0000  1724.0000   \n",
      "14  2023-07-21  sh.600519  1731.8800  1772.5000  1726.0000  1771.3000   \n",
      "15  2023-07-24  sh.600519  1750.5200  1771.1500  1750.5200  1771.1500   \n",
      "16  2023-07-25  sh.600519  1800.0000  1828.8800  1799.9900  1828.5500   \n",
      "17  2023-07-26  sh.600519  1828.5500  1835.9900  1815.0800  1828.5500   \n",
      "18  2023-07-27  sh.600519  1836.0000  1854.7900  1828.7000  1838.0300   \n",
      "19  2023-07-28  sh.600519  1832.0000  1900.0000  1828.0100  1897.0000   \n",
      "20  2023-07-31  sh.600519  1908.0000  1935.0000  1874.0000  1880.5800   \n",
      "\n",
      "     preclose   volume           amount adjustflag      turn tradestatus   \n",
      "0   1691.0000  1913909  3286737792.2800          3  0.152400           1  \\\n",
      "1   1724.1000  1247238  2155553634.6600          3  0.099300           1   \n",
      "2   1730.6000  1474539  2523960724.5100          3  0.117400           1   \n",
      "3   1715.3800  1514062  2589459002.0500          3  0.120500           1   \n",
      "4   1702.9800  1516742  2571458552.9600          3  0.120700           1   \n",
      "5   1690.0300  1347741  2298241728.0300          3  0.107300           1   \n",
      "6   1700.9000  1258270  2151079269.9100          3  0.100200           1   \n",
      "7   1710.0000  1328467  2280785350.6200          3  0.105800           1   \n",
      "8   1713.8000  2580654  4479772500.3600          3  0.205400           1   \n",
      "9   1738.4000  1855030  3245530255.3300          3  0.147700           1   \n",
      "10  1753.0000  1433648  2482069845.8500          3  0.114100           1   \n",
      "11  1729.9700  1473765  2544005062.8800          3  0.117300           1   \n",
      "12  1722.8000  1248322  2147704434.6900          3  0.099400           1   \n",
      "13  1723.0000  1669265  2897176490.4100          3  0.132900           1   \n",
      "14  1724.0000  3937740  6931535725.8300          3  0.313500           1   \n",
      "15  1771.3000  1971337  3476648177.4400          3  0.156900           1   \n",
      "16  1771.1500  4308646  7837450018.6600          3  0.343000           1   \n",
      "17  1828.5500  1961145  3580171484.2900          3  0.156100           1   \n",
      "18  1828.5500  2034043  3749635290.0900          3  0.161900           1   \n",
      "19  1838.0300  3901792  7330314112.2400          3  0.310600           1   \n",
      "20  1897.0000  4537861  8615279839.3400          3  0.361200           1   \n",
      "\n",
      "       pctChg      peTTM      pbMRQ      psTTM  \n",
      "0    1.957400  32.683411   9.922363  16.193449  \n",
      "1    0.377000  32.806630   9.959771  16.254499  \n",
      "2   -0.879500  32.518108   9.872178  16.111547  \n",
      "3   -0.722900  32.283044   9.800815  15.995081  \n",
      "4   -0.760400  32.037553   9.726287  15.873449  \n",
      "5    0.643200  32.243614   9.788845  15.975545  \n",
      "6    0.535000  32.416120   9.841216  16.061016  \n",
      "7    0.222200  32.488156   9.863085  16.096707  \n",
      "8    1.435400  32.954493  10.004661  16.327760  \n",
      "9    0.839900  33.231263  10.088685  16.464889  \n",
      "10  -1.313700  32.794688   9.956145  16.248582  \n",
      "11  -0.414500  32.658767   9.914881  16.181239  \n",
      "12   0.011600  32.662559   9.916032  16.183117  \n",
      "13   0.058000  32.681516   9.921787  16.192509  \n",
      "14   2.743600  33.578172  10.194004  16.636770  \n",
      "15  -0.008500  33.575328  10.193140  16.635361  \n",
      "16   3.240800  34.663449  10.523483  17.174486  \n",
      "17   0.000000                                   \n",
      "18   0.518400                                   \n",
      "19   3.208300  35.961041  10.917419  17.817396  \n",
      "20  -0.865600  35.649771  10.822921  17.663173  \n",
      "logout success!\n"
     ]
    },
    {
     "data": {
      "text/plain": [
       "<baostock.data.resultset.ResultData at 0x1064a6c20>"
      ]
     },
     "execution_count": 5,
     "metadata": {},
     "output_type": "execute_result"
    }
   ],
   "source": [
    "#### Login system ####\n",
    "lg = bs.login()\n",
    "# Displays login return information\n",
    "print('login respond error_code:'+lg.error_code)\n",
    "print('login respond  error_msg:'+lg.error_msg)\n",
    "\n",
    "#### Get historical K-line data ####\n",
    "# For detailed index parameters, please refer to the paper \"3.1.2 Historical stock market data\".\n",
    "rs = bs.query_history_k_data_plus(\"sh.600519\",\n",
    "    \"date,code,open,high,low,close,preclose,volume,amount,adjustflag,turn,tradestatus,pctChg,peTTM,pbMRQ,psTTM\",\n",
    "    start_date='2023-07-01', end_date='2023-07-31', \n",
    "    frequency=\"d\", adjustflag=\"3\") #frequency=\"d\" take day k line, adjustflag=\"3\" default no rights\n",
    "print('query_history_k_data_plus respond error_code:'+rs.error_code)\n",
    "print('query_history_k_data_plus respond  error_msg:'+rs.error_msg)\n",
    "\n",
    "#### Print result set ####\n",
    "data_list = []\n",
    "while (rs.error_code == '0') & rs.next():\n",
    "    # Get a record and merge the records together\n",
    "    data_list.append(rs.get_row_data())\n",
    "result = pd.DataFrame(data_list, columns=rs.fields)\n",
    "#### Output result sets to csv file ####\n",
    "result.to_csv(\"history_data_600519_month7.csv\", encoding=\"gbk\", index=False)\n",
    "print(result)\n",
    "\n",
    "#### Logout system ####\n",
    "bs.logout()"
   ]
  }
 ],
 "metadata": {
  "kernelspec": {
   "display_name": "Python 3 (ipykernel)",
   "language": "python",
   "name": "python3"
  },
  "language_info": {
   "codemirror_mode": {
    "name": "ipython",
    "version": 3
   },
   "file_extension": ".py",
   "mimetype": "text/x-python",
   "name": "python",
   "nbconvert_exporter": "python",
   "pygments_lexer": "ipython3",
   "version": "3.10.9"
  }
 },
 "nbformat": 4,
 "nbformat_minor": 5
}
